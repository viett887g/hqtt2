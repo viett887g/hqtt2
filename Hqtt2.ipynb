{
  "nbformat": 4,
  "nbformat_minor": 0,
  "metadata": {
    "colab": {
      "provenance": [],
      "authorship_tag": "ABX9TyNTU+/gTCr+pUgfnGgWvHot",
      "include_colab_link": true
    },
    "kernelspec": {
      "name": "python3",
      "display_name": "Python 3"
    },
    "language_info": {
      "name": "python"
    }
  },
  "cells": [
    {
      "cell_type": "markdown",
      "metadata": {
        "id": "view-in-github",
        "colab_type": "text"
      },
      "source": [
        "<a href=\"https://colab.research.google.com/github/viett887g/hqtt2/blob/main/Hqtt2.ipynb\" target=\"_parent\"><img src=\"https://colab.research.google.com/assets/colab-badge.svg\" alt=\"Open In Colab\"/></a>"
      ]
    },
    {
      "cell_type": "code",
      "source": [
        "import os\n",
        "import numpy as np\n",
        "from sklearn.linear_model import LinearRegression\n",
        "from sklearn import preprocessing"
      ],
      "metadata": {
        "id": "fj9mel_qCSXi"
      },
      "execution_count": 5,
      "outputs": []
    },
    {
      "cell_type": "code",
      "execution_count": 14,
      "metadata": {
        "colab": {
          "base_uri": "https://localhost:8080/"
        },
        "id": "4Fr7oxHTBInT",
        "outputId": "2d4f03f8-d781-493a-a6f9-ed95d754349b"
      },
      "outputs": [
        {
          "output_type": "stream",
          "name": "stdout",
          "text": [
            "Kích thước của tập dữ liệu:  (97, 2)\n",
            "Kích thước tập X:  (97, 1)\n",
            "Kích thước vector y:  (97,)\n",
            "Huấn luyện mô hình LinearRegression\n",
            "trong so toi uu [0.7638249]\n"
          ]
        }
      ],
      "source": [
        "data = np.loadtxt(os.path.join(\"/content/ex1data1.txt\"),delimiter=\",\")\n",
        "data = preprocessing.MinMaxScaler().fit_transform(data)\n",
        "print('Kích thước của tập dữ liệu: ',data.shape)\n",
        "X= data[:,:-1]\n",
        "y=data[:, -1]\n",
        "print('Kích thước tập X: ', X.shape)\n",
        "print('Kích thước vector y: ', y.shape)\n",
        "print('Huấn luyện mô hình LinearRegression')\n",
        "model = LinearRegression()\n",
        "#Huấn luyện mô hình với tập dữ liệu X, y\n",
        "model.fit(X,y)\n",
        "print('trong so toi uu', model.coef_)"
      ]
    }
  ]
}